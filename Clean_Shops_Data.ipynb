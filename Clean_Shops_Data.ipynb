{
 "cells": [
  {
   "cell_type": "code",
   "execution_count": 1,
   "metadata": {},
   "outputs": [],
   "source": [
    "import pandas as pd"
   ]
  },
  {
   "cell_type": "code",
   "execution_count": 2,
   "metadata": {},
   "outputs": [
    {
     "name": "stdout",
     "output_type": "stream",
     "text": [
      "[1999 2001 2003 2005 2007 2009 2011 2013 2015 2017 2019]\n"
     ]
    }
   ],
   "source": [
    "df_shops = pd.read_csv(r\"Input Data\\shops_final_564m_21.11.21.csv\", encoding='latin-1')\n",
    "print(df_shops[\"Year\"].unique())"
   ]
  },
  {
   "cell_type": "code",
   "execution_count": 3,
   "metadata": {},
   "outputs": [],
   "source": [
    "df_shops_2011 = df_shops[df_shops[\"Year\"] == 2011]\n",
    "df_shops_2011 = df_shops_2011[['ID', 'TotalSales', 'Name', 'Address', 'Zip', 'Type', 'Warehouse', 'Chain','Neighborhood', 'District']]"
   ]
  },
  {
   "cell_type": "code",
   "execution_count": null,
   "metadata": {},
   "outputs": [],
   "source": [
    "df_shops_2011.to_csv(r'Outputs\\CSV_Shops', index=False )"
   ]
  }
 ],
 "metadata": {
  "kernelspec": {
   "display_name": "base",
   "language": "python",
   "name": "python3"
  },
  "language_info": {
   "codemirror_mode": {
    "name": "ipython",
    "version": 3
   },
   "file_extension": ".py",
   "mimetype": "text/x-python",
   "name": "python",
   "nbconvert_exporter": "python",
   "pygments_lexer": "ipython3",
   "version": "3.9.12"
  },
  "orig_nbformat": 4,
  "vscode": {
   "interpreter": {
    "hash": "cdae1444940b99e3e53ac88a94b6123b54df9826074c61b3964140f8b899264e"
   }
  }
 },
 "nbformat": 4,
 "nbformat_minor": 2
}
