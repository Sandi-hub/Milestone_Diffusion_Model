{
 "cells": [
  {
   "cell_type": "code",
   "execution_count": 6,
   "metadata": {},
   "outputs": [],
   "source": [
    "import pandas as pd"
   ]
  },
  {
   "cell_type": "code",
   "execution_count": 7,
   "metadata": {},
   "outputs": [],
   "source": [
    "chosen_year = 2011"
   ]
  },
  {
   "cell_type": "code",
   "execution_count": 8,
   "metadata": {},
   "outputs": [
    {
     "name": "stdout",
     "output_type": "stream",
     "text": [
      "[1999 2001 2003 2005 2007 2009 2011 2013 2015 2017 2019]\n"
     ]
    }
   ],
   "source": [
    "df_shops = pd.read_csv(r\"Input Data\\shops_final_564m_21.11.21.csv\", encoding='latin-1')\n",
    "print(df_shops[\"Year\"].unique())"
   ]
  },
  {
   "cell_type": "code",
   "execution_count": 9,
   "metadata": {},
   "outputs": [],
   "source": [
    "df_shops_2011 = df_shops[df_shops[\"Year\"] == chosen_year]\n",
    "df_shops_2011 = df_shops_2011[['ID', 'TotalSales', 'Name', 'Address', 'Zip', 'Type', 'Warehouse', 'Chain','Neighborhood', 'District']]"
   ]
  },
  {
   "cell_type": "code",
   "execution_count": 11,
   "metadata": {},
   "outputs": [
    {
     "name": "stdout",
     "output_type": "stream",
     "text": [
      "          ID  TotalSales                       Name  \\\n",
      "2732  D11001     2130950                       Aldi   \n",
      "2733  D11002     2180000                       Aldi   \n",
      "2734  D11003     3270000                       Aldi   \n",
      "2735  D11004     3270000                       Aldi   \n",
      "2736  D11005     3270000                       Aldi   \n",
      "...      ...         ...                        ...   \n",
      "3221  O11036     3010200  Tjadens Bio Frische Markt   \n",
      "3222  O11037      451500         Villa Sonnenschein   \n",
      "3223  O11038     1354500         Vitalien Naturkost   \n",
      "3224  O11039      532770   warenwirtschaft cblk OHG   \n",
      "3225  S11008      822400                Edeka Meyer   \n",
      "\n",
      "                        Address    Zip                Type   Warehouse  Chain  \\\n",
      "2732             Hermannstal 72  22119          Discounter   Aldi Nord   Aldi   \n",
      "2733   Moellner LandStrasse 131  22117          Discounter   Aldi Nord   Aldi   \n",
      "2734         HolstenStrasse 156  22765          Discounter   Aldi Nord   Aldi   \n",
      "2735     Paul-Roosen-Strasse 43  22767          Discounter   Aldi Nord   Aldi   \n",
      "2736       Langenfelder Damm 46  22525          Discounter   Aldi Nord   Aldi   \n",
      "...                         ...    ...                 ...         ...    ...   \n",
      "3221           GertigStrasse 26  22303        Organic Shop     Dennree  Other   \n",
      "3222     Boenningstedter Weg 42  22457        Organic Shop       Other  Other   \n",
      "3223       DorotheenStrasse 178  22299        Organic Shop       Grell  Other   \n",
      "3224  Grosse BrunnenStrasse 141  22763        Organic Shop       Other  Other   \n",
      "3225        Saseler Chaussee 35  22391  Small_Full_Service  Edeka Nord  Edeka   \n",
      "\n",
      "         Neighborhood       District  \n",
      "2732             Horn  Hamburg-Mitte  \n",
      "2733        Billstedt  Hamburg-Mitte  \n",
      "2734      Altona-Nord         Altona  \n",
      "2735  Altona-Altstadt         Altona  \n",
      "2736       Stellingen    Eimsbuettel  \n",
      "...               ...            ...  \n",
      "3221       Winterhude   Hamburg-Nord  \n",
      "3222        Schnelsen     Eimsblttel  \n",
      "3223       Winterhude   Hamburg-Nord  \n",
      "3224         Ottensen         Altona  \n",
      "3225  Wellingsbuettel       Wandsbek  \n",
      "\n",
      "[494 rows x 10 columns]\n"
     ]
    }
   ],
   "source": [
    "print(df_shops_2011)"
   ]
  },
  {
   "cell_type": "code",
   "execution_count": 10,
   "metadata": {},
   "outputs": [],
   "source": [
    "df_shops_2011.to_csv(r'Outputs\\CSV_Shops\\shops_2011.csv', index=False )"
   ]
  }
 ],
 "metadata": {
  "kernelspec": {
   "display_name": "base",
   "language": "python",
   "name": "python3"
  },
  "language_info": {
   "codemirror_mode": {
    "name": "ipython",
    "version": 3
   },
   "file_extension": ".py",
   "mimetype": "text/x-python",
   "name": "python",
   "nbconvert_exporter": "python",
   "pygments_lexer": "ipython3",
   "version": "3.9.12"
  },
  "orig_nbformat": 4,
  "vscode": {
   "interpreter": {
    "hash": "cdae1444940b99e3e53ac88a94b6123b54df9826074c61b3964140f8b899264e"
   }
  }
 },
 "nbformat": 4,
 "nbformat_minor": 2
}
