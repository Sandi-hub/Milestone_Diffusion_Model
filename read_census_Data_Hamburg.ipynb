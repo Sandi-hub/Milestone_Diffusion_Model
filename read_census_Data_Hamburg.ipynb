{
 "cells": [
  {
   "cell_type": "markdown",
   "metadata": {},
   "source": [
    "Data taken from: https://www.statistik-nord.de/fileadmin/maps/zensus2011_hh/index.html"
   ]
  },
  {
   "cell_type": "code",
   "execution_count": null,
   "metadata": {},
   "outputs": [
    {
     "ename": "",
     "evalue": "",
     "output_type": "error",
     "traceback": [
      "\u001b[1;31mRunning cells with 'Python 3.9.12 ('base')' requires ipykernel package.\n",
      "\u001b[1;31mRun the following command to install 'ipykernel' into the Python environment. \n",
      "\u001b[1;31mCommand: 'conda install -n base ipykernel --update-deps --force-reinstall'"
     ]
    }
   ],
   "source": [
    "import pandas as pd\n",
    "import geopandas as gpd\n",
    "from shapely.geometry import Polygon\n",
    "import folium\n",
    "import branca"
   ]
  },
  {
   "cell_type": "code",
   "execution_count": null,
   "metadata": {},
   "outputs": [],
   "source": [
    "path_census_data = r\"C:\\Users\\srude\\Documents\\Dev Kram\\Gravity_Model\\Data\\Zensus2011_Ergebnisse_nach_Gitterzellen_fuer_Hamburg.xlsx\""
   ]
  },
  {
   "cell_type": "code",
   "execution_count": null,
   "metadata": {},
   "outputs": [],
   "source": [
    "df_census = pd.read_excel(\n",
    "    path_census_data, sheet_name=\"Einwohnerzahl 100m-Gitterzellen\", header=2\n",
    ")"
   ]
  },
  {
   "cell_type": "code",
   "execution_count": null,
   "metadata": {},
   "outputs": [],
   "source": [
    "df_census=df_census.drop([76039, 76038])"
   ]
  },
  {
   "cell_type": "code",
   "execution_count": null,
   "metadata": {},
   "outputs": [],
   "source": [
    "# for testing purposes we will only take 500\n",
    "#df_census = df_census[0:500]"
   ]
  },
  {
   "cell_type": "code",
   "execution_count": null,
   "metadata": {},
   "outputs": [],
   "source": [
    "# for each row, determine latitude and longitude points\n",
    "# for each cell, build polygon\n",
    "# append polygon to list of polygons\n",
    "\n",
    "ls_polygon_geometries = []\n",
    "for i in range(len(df_census)):\n",
    "    lon_point_list = [df_census.iloc[i,3] - 50, df_census.iloc[i,3] - 50, df_census.iloc[i,3] + 50, df_census.iloc[i,3] + 50]\n",
    "    lat_point_list = [df_census.iloc[i,4] -50, df_census.iloc[i,4] + 50, df_census.iloc[i,4] + 50, df_census.iloc[i,4] - 50, ]\n",
    "    print(df_census.iloc[i,2], df_census.iloc[i,3],df_census.iloc[i,4]  )\n",
    "    polygon_geom = Polygon(zip(lon_point_list, lat_point_list))\n",
    "    ls_polygon_geometries.append(polygon_geom)"
   ]
  },
  {
   "cell_type": "code",
   "execution_count": null,
   "metadata": {},
   "outputs": [],
   "source": [
    "crs = 'epsg:3035'\n",
    "gdf_census = gpd.GeoDataFrame(df_census, crs=crs, geometry=ls_polygon_geometries)"
   ]
  },
  {
   "cell_type": "code",
   "execution_count": null,
   "metadata": {},
   "outputs": [],
   "source": [
    "print(gdf_census['Einwohner'].max())"
   ]
  },
  {
   "cell_type": "markdown",
   "metadata": {},
   "source": [
    "Colorbrewer: YlOrRd_09: https://jiffyclub.github.io/palettable/colorbrewer/sequential/\n",
    "Styling Options: https://i.stack.imgur.com/dHNzs.png"
   ]
  },
  {
   "cell_type": "code",
   "execution_count": null,
   "metadata": {},
   "outputs": [],
   "source": [
    "(gdf_census.centroid.x).min()\n",
    "(gdf_census.centroid.y).min()"
   ]
  },
  {
   "cell_type": "code",
   "execution_count": null,
   "metadata": {},
   "outputs": [],
   "source": [
    "colormap = branca.colormap.linear.YlOrRd_09.scale(0, 500)#gdf_census['Einwohner'].max() )\n",
    "colormap.caption = \"Einwohner\"\n",
    "\n",
    "# standard crs of folium maps: epsg 4326\n",
    "map_hamburg = folium.Map([53.5460, 10.0003] , zoom_start=10,  tiles='cartodbpositron')\n",
    "folium.GeoJson(gdf_census, tooltip=folium.GeoJsonTooltip(fields=[\"Gitter_ID_100m\",\"Einwohner\"]),  style_function= lambda x:{\n",
    "        \"stroke\": True,\n",
    "        \"color\": '#D3D3D3',\n",
    "        \"weight\": 0.1,\n",
    "        \"lineOpacity\": 0.5,\n",
    "        \"fillOpacity\": 0.8,\n",
    "        \"fillColor\":  \"#FFFFF3\" if x['properties'][\"Einwohner\"] == -1 else colormap(x['properties'][\"Einwohner\"] ),}).add_to(map_hamburg)\n",
    "#folium.LatLngPopup().add_to(m)\n",
    "colormap.add_to(map_hamburg)\n",
    "map_hamburg"
   ]
  },
  {
   "cell_type": "code",
   "execution_count": null,
   "metadata": {},
   "outputs": [],
   "source": [
    "gdf_census.to_file(filename=r'C:\\Users\\srude\\Documents\\Dev Kram\\Gravity_Model_neu\\Shapefiles\\population_data_Hamburg_2011.shp', driver=\"ESRI Shapefile\")"
   ]
  }
 ],
 "metadata": {
  "kernelspec": {
   "display_name": "Python 3.9.12 ('base')",
   "language": "python",
   "name": "python3"
  },
  "language_info": {
   "codemirror_mode": {
    "name": "ipython",
    "version": 3
   },
   "file_extension": ".py",
   "mimetype": "text/x-python",
   "name": "python",
   "nbconvert_exporter": "python",
   "pygments_lexer": "ipython3",
   "version": "3.9.12 (main, Apr  4 2022, 05:22:27) [MSC v.1916 64 bit (AMD64)]"
  },
  "orig_nbformat": 4,
  "vscode": {
   "interpreter": {
    "hash": "cdae1444940b99e3e53ac88a94b6123b54df9826074c61b3964140f8b899264e"
   }
  }
 },
 "nbformat": 4,
 "nbformat_minor": 2
}
